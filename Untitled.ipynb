{
 "cells": [
  {
   "cell_type": "code",
   "execution_count": 5,
   "id": "57576568-ff0a-4e29-bd4c-113cbab8db68",
   "metadata": {},
   "outputs": [
    {
     "data": {
      "text/plain": [
       "150"
      ]
     },
     "execution_count": 5,
     "metadata": {},
     "output_type": "execute_result"
    }
   ],
   "source": [
    "# Q1.ANS=>\n",
    "class vehicle:\n",
    "    def __init__(self,name_of_vehicle, max_speed, average_of_vehicle):\n",
    "        self.name=name_of_vehicle\n",
    "        self.max_speed=max_speed\n",
    "        self.average=average_of_vehicle\n",
    "        \n",
    "obj_vehicle=vehicle(\"pulser\",150,50)\n",
    "obj_vehicle.max_speed\n"
   ]
  },
  {
   "cell_type": "code",
   "execution_count": 4,
   "id": "0910354b-0bac-42e2-ad71-ecc6fdeb7465",
   "metadata": {},
   "outputs": [
    {
     "data": {
      "text/plain": [
       "('pulser', 3)"
      ]
     },
     "execution_count": 4,
     "metadata": {},
     "output_type": "execute_result"
    }
   ],
   "source": [
    "# Q2.ANS=>\n",
    "class car(vehicle):\n",
    "    def seating_capacity(self,seating_capacity):\n",
    "        self.seating_capacity=seating_capacity\n",
    "        return self.name , self.seating_capacity\n",
    "\n",
    "car_obj=car(\"pulser\",150,50)\n",
    "car_obj.seating_capacity(3)"
   ]
  },
  {
   "cell_type": "code",
   "execution_count": 11,
   "id": "ca68dd08-0007-491d-9c2d-a8f2cb43c670",
   "metadata": {},
   "outputs": [
    {
     "name": "stdout",
     "output_type": "stream",
     "text": [
      "A\n",
      "B\n"
     ]
    }
   ],
   "source": [
    "# Q3.ANS=>\n",
    "'''When a class is derived from more than one base class it is called multiple Inheritance, like below class3 is derived from class1 and class2\n",
    "hence class3 can access methods of both class1 and class2\n",
    "a class inherite two or more class in it  and that class is able to access all methods of its inherited class it is called as multiple inheritance'''\n",
    "\n",
    "class class1:\n",
    "    def func_a(self):\n",
    "        print(\"A\")\n",
    "\n",
    "class class2:\n",
    "    def func_b(self):\n",
    "        print(\"B\")\n",
    "\n",
    "class class3(class1,class2):\n",
    "    pass\n",
    "\n",
    "class3_obj=class3()\n",
    "\n",
    "class3_obj.func_a()\n",
    "class3_obj.func_b()"
   ]
  },
  {
   "cell_type": "code",
   "execution_count": 12,
   "id": "57f12a57-3e22-4efd-bac4-50dfe8a4dacd",
   "metadata": {},
   "outputs": [
    {
     "name": "stdout",
     "output_type": "stream",
     "text": [
      "23\n",
      "23\n"
     ]
    }
   ],
   "source": [
    "# Q4.ANS=>\n",
    "'''\n",
    " A method that allows programmer to access an attribute in a given class called getter. \n",
    " A method that allows programmer to set or mutate the value of an attribute in a class called setter'''\n",
    "\n",
    "class person:\n",
    "\tdef __init__(self, age = 0):\n",
    "\t\tself._age = age\n",
    "\t\n",
    "\t# getter method\n",
    "\tdef get_age(self):\n",
    "\t\treturn self._age\n",
    "\t\n",
    "\t# setter method\n",
    "\tdef set_age(self, x):\n",
    "\t\tself._age = x\n",
    "\n",
    "sai = person()\n",
    "\n",
    "# setting the age using setter\n",
    "sai.set_age(23)\n",
    "\n",
    "# getting age using getter\n",
    "print(sai.get_age())\n",
    "print(sai._age)"
   ]
  },
  {
   "cell_type": "code",
   "execution_count": 11,
   "id": "e052c428-8596-4319-aa9c-15766032db26",
   "metadata": {},
   "outputs": [
    {
     "name": "stdout",
     "output_type": "stream",
     "text": [
      "I have 4 sides. I am from Square class\n",
      "I am a triangle's area, I am from triangle class\n",
      "I have not color, I am from Square class.\n"
     ]
    }
   ],
   "source": [
    "# Q5.ANS=>\n",
    "'''When a child class method overrides the parent class method of the same name, parameters and return type,\n",
    "it is known as method overriding, method override is related to inheritance,\n",
    "in the following example a child class (square) override its parent class (triangle) method no_of_sides'''\n",
    "\n",
    "class triangle:\n",
    "    data1 = \"abc\"\n",
    "\n",
    "    def no_of_sides(self):\n",
    "        print(\"I have 3 sides, I am from shape class.\")\n",
    "\n",
    "    def area(self):\n",
    "        print(\"I am a triangle's area, I am from triangle class\")\n",
    "\n",
    "class Square (triangle):\n",
    "    data2 = \"XYZ\"\n",
    "\n",
    "    def no_of_sides (self):\n",
    "        print(\"I have 4 sides. I am from Square class\")\n",
    "\n",
    "    def color(self):\n",
    "        print(\"I have not color, I am from Square class.\")\n",
    "\n",
    "sq = Square() \n",
    "sq.no_of_sides() \n",
    "sq.area() \n",
    "sq.color()\n"
   ]
  },
  {
   "cell_type": "code",
   "execution_count": null,
   "id": "72f37db4-cee3-486d-a869-2872dee0856b",
   "metadata": {},
   "outputs": [],
   "source": []
  }
 ],
 "metadata": {
  "kernelspec": {
   "display_name": "Python 3 (ipykernel)",
   "language": "python",
   "name": "python3"
  },
  "language_info": {
   "codemirror_mode": {
    "name": "ipython",
    "version": 3
   },
   "file_extension": ".py",
   "mimetype": "text/x-python",
   "name": "python",
   "nbconvert_exporter": "python",
   "pygments_lexer": "ipython3",
   "version": "3.10.8"
  }
 },
 "nbformat": 4,
 "nbformat_minor": 5
}
